{
 "cells": [
  {
   "cell_type": "code",
   "execution_count": 1,
   "metadata": {},
   "outputs": [],
   "source": [
    "inputs = '1,0,0,3,1,1,2,3,1,3,4,3,1,5,0,3,2,1,13,19,1,9,19,23,2,13,23,27,2,27,13,31,2,31,10,35,1,6,35,39,1,5,39,43,1,10,43,47,1,5,47,51,1,13,51,55,2,55,9,59,1,6,59,63,1,13,63,67,1,6,67,71,1,71,10,75,2,13,75,79,1,5,79,83,2,83,6,87,1,6,87,91,1,91,13,95,1,95,13,99,2,99,13,103,1,103,5,107,2,107,10,111,1,5,111,115,1,2,115,119,1,119,6,0,99,2,0,14,0'"
   ]
  },
  {
   "cell_type": "code",
   "execution_count": 2,
   "metadata": {},
   "outputs": [],
   "source": [
    "instructions = [int(code) for code in inputs.split(',')]"
   ]
  },
  {
   "cell_type": "code",
   "execution_count": 3,
   "metadata": {},
   "outputs": [
    {
     "data": {
      "text/plain": [
       "[1,\n",
       " 0,\n",
       " 0,\n",
       " 3,\n",
       " 1,\n",
       " 1,\n",
       " 2,\n",
       " 3,\n",
       " 1,\n",
       " 3,\n",
       " 4,\n",
       " 3,\n",
       " 1,\n",
       " 5,\n",
       " 0,\n",
       " 3,\n",
       " 2,\n",
       " 1,\n",
       " 13,\n",
       " 19,\n",
       " 1,\n",
       " 9,\n",
       " 19,\n",
       " 23,\n",
       " 2,\n",
       " 13,\n",
       " 23,\n",
       " 27,\n",
       " 2,\n",
       " 27,\n",
       " 13,\n",
       " 31,\n",
       " 2,\n",
       " 31,\n",
       " 10,\n",
       " 35,\n",
       " 1,\n",
       " 6,\n",
       " 35,\n",
       " 39,\n",
       " 1,\n",
       " 5,\n",
       " 39,\n",
       " 43,\n",
       " 1,\n",
       " 10,\n",
       " 43,\n",
       " 47,\n",
       " 1,\n",
       " 5,\n",
       " 47,\n",
       " 51,\n",
       " 1,\n",
       " 13,\n",
       " 51,\n",
       " 55,\n",
       " 2,\n",
       " 55,\n",
       " 9,\n",
       " 59,\n",
       " 1,\n",
       " 6,\n",
       " 59,\n",
       " 63,\n",
       " 1,\n",
       " 13,\n",
       " 63,\n",
       " 67,\n",
       " 1,\n",
       " 6,\n",
       " 67,\n",
       " 71,\n",
       " 1,\n",
       " 71,\n",
       " 10,\n",
       " 75,\n",
       " 2,\n",
       " 13,\n",
       " 75,\n",
       " 79,\n",
       " 1,\n",
       " 5,\n",
       " 79,\n",
       " 83,\n",
       " 2,\n",
       " 83,\n",
       " 6,\n",
       " 87,\n",
       " 1,\n",
       " 6,\n",
       " 87,\n",
       " 91,\n",
       " 1,\n",
       " 91,\n",
       " 13,\n",
       " 95,\n",
       " 1,\n",
       " 95,\n",
       " 13,\n",
       " 99,\n",
       " 2,\n",
       " 99,\n",
       " 13,\n",
       " 103,\n",
       " 1,\n",
       " 103,\n",
       " 5,\n",
       " 107,\n",
       " 2,\n",
       " 107,\n",
       " 10,\n",
       " 111,\n",
       " 1,\n",
       " 5,\n",
       " 111,\n",
       " 115,\n",
       " 1,\n",
       " 2,\n",
       " 115,\n",
       " 119,\n",
       " 1,\n",
       " 119,\n",
       " 6,\n",
       " 0,\n",
       " 99,\n",
       " 2,\n",
       " 0,\n",
       " 14,\n",
       " 0]"
      ]
     },
     "execution_count": 3,
     "metadata": {},
     "output_type": "execute_result"
    }
   ],
   "source": [
    "instructions"
   ]
  },
  {
   "cell_type": "code",
   "execution_count": 4,
   "metadata": {},
   "outputs": [],
   "source": [
    "instructions[1] = 12\n"
   ]
  },
  {
   "cell_type": "code",
   "execution_count": 5,
   "metadata": {},
   "outputs": [],
   "source": [
    "instructions[2] = 2"
   ]
  },
  {
   "cell_type": "code",
   "execution_count": 6,
   "metadata": {},
   "outputs": [
    {
     "data": {
      "text/plain": [
       "[1,\n",
       " 12,\n",
       " 2,\n",
       " 3,\n",
       " 1,\n",
       " 1,\n",
       " 2,\n",
       " 3,\n",
       " 1,\n",
       " 3,\n",
       " 4,\n",
       " 3,\n",
       " 1,\n",
       " 5,\n",
       " 0,\n",
       " 3,\n",
       " 2,\n",
       " 1,\n",
       " 13,\n",
       " 19,\n",
       " 1,\n",
       " 9,\n",
       " 19,\n",
       " 23,\n",
       " 2,\n",
       " 13,\n",
       " 23,\n",
       " 27,\n",
       " 2,\n",
       " 27,\n",
       " 13,\n",
       " 31,\n",
       " 2,\n",
       " 31,\n",
       " 10,\n",
       " 35,\n",
       " 1,\n",
       " 6,\n",
       " 35,\n",
       " 39,\n",
       " 1,\n",
       " 5,\n",
       " 39,\n",
       " 43,\n",
       " 1,\n",
       " 10,\n",
       " 43,\n",
       " 47,\n",
       " 1,\n",
       " 5,\n",
       " 47,\n",
       " 51,\n",
       " 1,\n",
       " 13,\n",
       " 51,\n",
       " 55,\n",
       " 2,\n",
       " 55,\n",
       " 9,\n",
       " 59,\n",
       " 1,\n",
       " 6,\n",
       " 59,\n",
       " 63,\n",
       " 1,\n",
       " 13,\n",
       " 63,\n",
       " 67,\n",
       " 1,\n",
       " 6,\n",
       " 67,\n",
       " 71,\n",
       " 1,\n",
       " 71,\n",
       " 10,\n",
       " 75,\n",
       " 2,\n",
       " 13,\n",
       " 75,\n",
       " 79,\n",
       " 1,\n",
       " 5,\n",
       " 79,\n",
       " 83,\n",
       " 2,\n",
       " 83,\n",
       " 6,\n",
       " 87,\n",
       " 1,\n",
       " 6,\n",
       " 87,\n",
       " 91,\n",
       " 1,\n",
       " 91,\n",
       " 13,\n",
       " 95,\n",
       " 1,\n",
       " 95,\n",
       " 13,\n",
       " 99,\n",
       " 2,\n",
       " 99,\n",
       " 13,\n",
       " 103,\n",
       " 1,\n",
       " 103,\n",
       " 5,\n",
       " 107,\n",
       " 2,\n",
       " 107,\n",
       " 10,\n",
       " 111,\n",
       " 1,\n",
       " 5,\n",
       " 111,\n",
       " 115,\n",
       " 1,\n",
       " 2,\n",
       " 115,\n",
       " 119,\n",
       " 1,\n",
       " 119,\n",
       " 6,\n",
       " 0,\n",
       " 99,\n",
       " 2,\n",
       " 0,\n",
       " 14,\n",
       " 0]"
      ]
     },
     "execution_count": 6,
     "metadata": {},
     "output_type": "execute_result"
    }
   ],
   "source": [
    "instructions"
   ]
  },
  {
   "cell_type": "code",
   "execution_count": 7,
   "metadata": {},
   "outputs": [],
   "source": [
    "def enumerate2(xs, start=0, step=1):\n",
    "    for x in xs:\n",
    "        yield (start, x)\n",
    "        start += step"
   ]
  },
  {
   "cell_type": "code",
   "execution_count": 8,
   "metadata": {},
   "outputs": [],
   "source": [
    "def process(inputs):\n",
    "    instructions = inputs.copy() #make changes to copy\n",
    "    for counter in range(0,len(instructions),4):\n",
    "        code = instructions[counter]\n",
    "        if code == 99:\n",
    "            break\n",
    "        else:\n",
    "            src1 = instructions[counter+1]\n",
    "            src2 = instructions[counter+2]\n",
    "            dest = instructions[counter+3]\n",
    "            if code == 1:\n",
    "                instructions[dest] = instructions[src1] + instructions[src2]\n",
    "            elif code == 2:\n",
    "                instructions[dest] = instructions[src1] * instructions[src2]\n",
    "            else:\n",
    "                print(f'Invalid Instruction: {counter}')\n",
    "            #counter += 4\n",
    "            \n",
    "    return instructions\n",
    "            "
   ]
  },
  {
   "cell_type": "code",
   "execution_count": 9,
   "metadata": {},
   "outputs": [
    {
     "data": {
      "text/plain": [
       "[2, 0, 0, 0, 99]"
      ]
     },
     "execution_count": 9,
     "metadata": {},
     "output_type": "execute_result"
    }
   ],
   "source": [
    "process([1,0,0,0,99])"
   ]
  },
  {
   "cell_type": "code",
   "execution_count": 10,
   "metadata": {},
   "outputs": [],
   "source": [
    "outputs = process(instructions)"
   ]
  },
  {
   "cell_type": "code",
   "execution_count": 11,
   "metadata": {},
   "outputs": [
    {
     "data": {
      "text/plain": [
       "3790689"
      ]
     },
     "execution_count": 11,
     "metadata": {},
     "output_type": "execute_result"
    }
   ],
   "source": [
    "outputs[0]"
   ]
  },
  {
   "cell_type": "code",
   "execution_count": 12,
   "metadata": {},
   "outputs": [],
   "source": [
    "def run_program(noun,verb,instructions):\n",
    "    instructions[1] = noun\n",
    "    instructions[2] = verb\n",
    "    output = process(instructions)[0]\n",
    "    return output"
   ]
  },
  {
   "cell_type": "code",
   "execution_count": 13,
   "metadata": {},
   "outputs": [
    {
     "data": {
      "text/plain": [
       "[1,\n",
       " 12,\n",
       " 2,\n",
       " 3,\n",
       " 1,\n",
       " 1,\n",
       " 2,\n",
       " 3,\n",
       " 1,\n",
       " 3,\n",
       " 4,\n",
       " 3,\n",
       " 1,\n",
       " 5,\n",
       " 0,\n",
       " 3,\n",
       " 2,\n",
       " 1,\n",
       " 13,\n",
       " 19,\n",
       " 1,\n",
       " 9,\n",
       " 19,\n",
       " 23,\n",
       " 2,\n",
       " 13,\n",
       " 23,\n",
       " 27,\n",
       " 2,\n",
       " 27,\n",
       " 13,\n",
       " 31,\n",
       " 2,\n",
       " 31,\n",
       " 10,\n",
       " 35,\n",
       " 1,\n",
       " 6,\n",
       " 35,\n",
       " 39,\n",
       " 1,\n",
       " 5,\n",
       " 39,\n",
       " 43,\n",
       " 1,\n",
       " 10,\n",
       " 43,\n",
       " 47,\n",
       " 1,\n",
       " 5,\n",
       " 47,\n",
       " 51,\n",
       " 1,\n",
       " 13,\n",
       " 51,\n",
       " 55,\n",
       " 2,\n",
       " 55,\n",
       " 9,\n",
       " 59,\n",
       " 1,\n",
       " 6,\n",
       " 59,\n",
       " 63,\n",
       " 1,\n",
       " 13,\n",
       " 63,\n",
       " 67,\n",
       " 1,\n",
       " 6,\n",
       " 67,\n",
       " 71,\n",
       " 1,\n",
       " 71,\n",
       " 10,\n",
       " 75,\n",
       " 2,\n",
       " 13,\n",
       " 75,\n",
       " 79,\n",
       " 1,\n",
       " 5,\n",
       " 79,\n",
       " 83,\n",
       " 2,\n",
       " 83,\n",
       " 6,\n",
       " 87,\n",
       " 1,\n",
       " 6,\n",
       " 87,\n",
       " 91,\n",
       " 1,\n",
       " 91,\n",
       " 13,\n",
       " 95,\n",
       " 1,\n",
       " 95,\n",
       " 13,\n",
       " 99,\n",
       " 2,\n",
       " 99,\n",
       " 13,\n",
       " 103,\n",
       " 1,\n",
       " 103,\n",
       " 5,\n",
       " 107,\n",
       " 2,\n",
       " 107,\n",
       " 10,\n",
       " 111,\n",
       " 1,\n",
       " 5,\n",
       " 111,\n",
       " 115,\n",
       " 1,\n",
       " 2,\n",
       " 115,\n",
       " 119,\n",
       " 1,\n",
       " 119,\n",
       " 6,\n",
       " 0,\n",
       " 99,\n",
       " 2,\n",
       " 0,\n",
       " 14,\n",
       " 0]"
      ]
     },
     "execution_count": 13,
     "metadata": {},
     "output_type": "execute_result"
    }
   ],
   "source": [
    "instructions"
   ]
  },
  {
   "cell_type": "code",
   "execution_count": 14,
   "metadata": {},
   "outputs": [
    {
     "data": {
      "text/plain": [
       "3790689"
      ]
     },
     "execution_count": 14,
     "metadata": {},
     "output_type": "execute_result"
    }
   ],
   "source": [
    "run_program(instructions[1], instructions[2], instructions)"
   ]
  },
  {
   "cell_type": "code",
   "execution_count": 15,
   "metadata": {},
   "outputs": [],
   "source": [
    "def search(instructions, target):\n",
    "    for noun in range(99):\n",
    "        for verb in range(99):\n",
    "            if run_program(noun,verb,instructions) == target:\n",
    "                return {'noun': noun, 'verb': verb}\n",
    "            else:\n",
    "                continue\n",
    "    \n",
    "    return 'Target Not Found'\n"
   ]
  },
  {
   "cell_type": "code",
   "execution_count": 16,
   "metadata": {},
   "outputs": [
    {
     "data": {
      "text/plain": [
       "{'noun': 12, 'verb': 2}"
      ]
     },
     "execution_count": 16,
     "metadata": {},
     "output_type": "execute_result"
    }
   ],
   "source": [
    "search(instructions,3790689)"
   ]
  },
  {
   "cell_type": "code",
   "execution_count": 17,
   "metadata": {},
   "outputs": [
    {
     "data": {
      "text/plain": [
       "{'noun': 65, 'verb': 33}"
      ]
     },
     "execution_count": 17,
     "metadata": {},
     "output_type": "execute_result"
    }
   ],
   "source": [
    "search(instructions,19690720)"
   ]
  },
  {
   "cell_type": "code",
   "execution_count": null,
   "metadata": {},
   "outputs": [],
   "source": []
  }
 ],
 "metadata": {
  "kernelspec": {
   "display_name": "Python 3",
   "language": "python",
   "name": "python3"
  },
  "language_info": {
   "codemirror_mode": {
    "name": "ipython",
    "version": 3
   },
   "file_extension": ".py",
   "mimetype": "text/x-python",
   "name": "python",
   "nbconvert_exporter": "python",
   "pygments_lexer": "ipython3",
   "version": "3.7.1"
  }
 },
 "nbformat": 4,
 "nbformat_minor": 2
}
